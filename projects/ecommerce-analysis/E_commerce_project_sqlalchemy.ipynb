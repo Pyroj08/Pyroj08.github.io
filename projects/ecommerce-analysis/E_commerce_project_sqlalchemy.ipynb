{
 "cells": [
  {
   "cell_type": "code",
   "execution_count": 1,
   "id": "31fc294b",
   "metadata": {},
   "outputs": [],
   "source": [
    "import pandas as pd\n",
    "import numpy as np\n",
    "from sqlalchemy import create_engine\n",
    "from sqlalchemy import text"
   ]
  },
  {
   "cell_type": "code",
   "execution_count": 2,
   "id": "cfb87d9b",
   "metadata": {},
   "outputs": [],
   "source": [
    "DB_USER = \"root\"         \n",
    "DB_PASS = \"YourPassword\"     \n",
    "DB_HOST = \"localhost\"\n",
    "DB_PORT = \"3306\"\n",
    "DB_NAME = \"e_commerce_project\""
   ]
  },
  {
   "cell_type": "code",
   "execution_count": 3,
   "id": "a0863537",
   "metadata": {},
   "outputs": [],
   "source": [
    "engine = create_engine(f\"mysql+pymysql://{DB_USER}:{DB_PASS}@{DB_HOST}/{DB_NAME}\")"
   ]
  },
  {
   "cell_type": "code",
   "execution_count": 4,
   "id": "f5acc1e4",
   "metadata": {},
   "outputs": [
    {
     "name": "stdout",
     "output_type": "stream",
     "text": [
      "📥 Loading tables from MySQL...\n"
     ]
    }
   ],
   "source": [
    "print(\"📥 Loading tables from MySQL...\")\n",
    "customers = pd.read_sql(\"SELECT * FROM customers\", engine)\n",
    "orders = pd.read_sql(\"SELECT * FROM orders\", engine)\n",
    "order_items = pd.read_sql(\"SELECT * FROM order_items\", engine)\n",
    "payments = pd.read_sql(\"SELECT * FROM payments\", engine)\n",
    "products = pd.read_sql(\"SELECT * FROM products\", engine)"
   ]
  },
  {
   "cell_type": "code",
   "execution_count": 5,
   "id": "dc989b24",
   "metadata": {},
   "outputs": [
    {
     "name": "stdout",
     "output_type": "stream",
     "text": [
      "🧹 Cleaning data...\n"
     ]
    }
   ],
   "source": [
    "print(\"🧹 Cleaning data...\")\n",
    "\n",
    "date_cols = [\n",
    "    \"order_purchase_timestamp\",\n",
    "    \"order_approved_at\",\n",
    "    \"order_delivered_carrier_date\",\n",
    "    \"order_delivered_customer_date\",\n",
    "    \"order_estimated_delivery_date\"\n",
    "]\n",
    "for col in date_cols:\n",
    "    if col in orders.columns:\n",
    "        orders[col] = pd.to_datetime(orders[col], errors=\"coerce\")\n",
    "\n",
    "customers.drop_duplicates(subset=[\"customer_id\"], inplace=True)\n",
    "\n",
    "payments = payments.dropna(subset=[\"order_id\", \"payment_value\"])\n"
   ]
  },
  {
   "cell_type": "code",
   "execution_count": 6,
   "id": "32b1e6ec",
   "metadata": {},
   "outputs": [
    {
     "name": "stdout",
     "output_type": "stream",
     "text": [
      "🔄 Merging tables...\n"
     ]
    }
   ],
   "source": [
    "print(\"🔄 Merging tables...\")\n",
    "\n",
    "olist_clean = (\n",
    "    orders\n",
    "    .merge(payments, on=\"order_id\", how=\"left\")\n",
    "    .merge(order_items, on=\"order_id\", how=\"left\")\n",
    "    .merge(products, on=\"product_id\", how=\"left\")\n",
    "    .merge(customers, on=\"customer_id\", how=\"left\")\n",
    ")\n",
    "\n",
    "olist_clean = olist_clean[[\n",
    "    \"order_id\", \"customer_id\", \"customer_city\", \"customer_state\",\n",
    "    \"order_status\", \"order_purchase_timestamp\", \"order_delivered_customer_date\",\n",
    "    \"payment_type\", \"payment_installments\", \"payment_value\",\n",
    "    \"product_id\", \"product_category_name\", \"price\", \"freight_value\"\n",
    "]]"
   ]
  },
  {
   "cell_type": "code",
   "execution_count": 7,
   "id": "4a96f1f5",
   "metadata": {},
   "outputs": [
    {
     "name": "stdout",
     "output_type": "stream",
     "text": [
      "💾 Saving cleaned table to MySQL...\n"
     ]
    }
   ],
   "source": [
    "olist_clean[\"order_id\"] = olist_clean[\"order_id\"].astype(str)\n",
    "olist_clean[\"customer_id\"] = olist_clean[\"customer_id\"].astype(str)\n",
    "olist_clean[\"product_id\"] = olist_clean[\"product_id\"].astype(str)\n",
    "\n",
    "# Save to MySQL with dtype mapping\n",
    "from sqlalchemy.types import String\n",
    "\n",
    "olist_clean.to_sql(\n",
    "    \"olist_clean\",\n",
    "    engine,\n",
    "    if_exists=\"replace\",\n",
    "    index=False,\n",
    "    dtype={\n",
    "        \"order_id\": String(50),\n",
    "        \"customer_id\": String(50),\n",
    "        \"product_id\": String(50)\n",
    "    }\n",
    ")\n",
    "print(\"💾 Saving cleaned table to MySQL...\")"
   ]
  },
  {
   "cell_type": "code",
   "execution_count": 8,
   "id": "96ead6a5",
   "metadata": {},
   "outputs": [
    {
     "name": "stdout",
     "output_type": "stream",
     "text": [
      "✅ Data cleaning and merging complete! The cleaned table is saved as 'olist_clean' in the MySQL database.\n"
     ]
    }
   ],
   "source": [
    "with engine.begin() as conn:\n",
    "    conn.execute(text(\"ALTER TABLE olist_clean ADD INDEX idx_order_id (order_id)\"))\n",
    "    conn.execute(text(\"ALTER TABLE olist_clean ADD INDEX idx_customer_id (customer_id)\"))\n",
    "    conn.execute(text(\"ALTER TABLE olist_clean ADD INDEX idx_product_id (product_id)\"))\n",
    "\n",
    "print(\"✅ Data cleaning and merging complete! The cleaned table is saved as 'olist_clean' in the MySQL database.\")  "
   ]
  }
 ],
 "metadata": {
  "kernelspec": {
   "display_name": "Python 3",
   "language": "python",
   "name": "python3"
  },
  "language_info": {
   "codemirror_mode": {
    "name": "ipython",
    "version": 3
   },
   "file_extension": ".py",
   "mimetype": "text/x-python",
   "name": "python",
   "nbconvert_exporter": "python",
   "pygments_lexer": "ipython3",
   "version": "3.11.9"
  }
 },
 "nbformat": 4,
 "nbformat_minor": 5
}
